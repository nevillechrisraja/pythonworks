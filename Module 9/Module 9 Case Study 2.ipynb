{
 "cells": [
  {
   "cell_type": "code",
   "execution_count": 2,
   "metadata": {},
   "outputs": [],
   "source": [
    "import pandas as pd"
   ]
  },
  {
   "cell_type": "code",
   "execution_count": 5,
   "metadata": {},
   "outputs": [],
   "source": [
    "#Question 1: Load the kinematics dataset as measured on mobile sensors from the file “run_or_walk.csv”. List out the columns in the dataset.\n",
    "dataset=pd.read_csv('C:\\\\Neville\\\\Python\\\\Session\\\\Module 9\\\\run_or_walk.csv')"
   ]
  },
  {
   "cell_type": "code",
   "execution_count": 6,
   "metadata": {},
   "outputs": [
    {
     "data": {
      "text/html": [
       "<div>\n",
       "<style scoped>\n",
       "    .dataframe tbody tr th:only-of-type {\n",
       "        vertical-align: middle;\n",
       "    }\n",
       "\n",
       "    .dataframe tbody tr th {\n",
       "        vertical-align: top;\n",
       "    }\n",
       "\n",
       "    .dataframe thead th {\n",
       "        text-align: right;\n",
       "    }\n",
       "</style>\n",
       "<table border=\"1\" class=\"dataframe\">\n",
       "  <thead>\n",
       "    <tr style=\"text-align: right;\">\n",
       "      <th></th>\n",
       "      <th>date</th>\n",
       "      <th>time</th>\n",
       "      <th>username</th>\n",
       "      <th>wrist</th>\n",
       "      <th>activity</th>\n",
       "      <th>acceleration_x</th>\n",
       "      <th>acceleration_y</th>\n",
       "      <th>acceleration_z</th>\n",
       "      <th>gyro_x</th>\n",
       "      <th>gyro_y</th>\n",
       "      <th>gyro_z</th>\n",
       "    </tr>\n",
       "  </thead>\n",
       "  <tbody>\n",
       "    <tr>\n",
       "      <td>0</td>\n",
       "      <td>2017-6-30</td>\n",
       "      <td>13:51:15:847724020</td>\n",
       "      <td>viktor</td>\n",
       "      <td>0</td>\n",
       "      <td>0</td>\n",
       "      <td>0.2650</td>\n",
       "      <td>-0.7814</td>\n",
       "      <td>-0.0076</td>\n",
       "      <td>-0.0590</td>\n",
       "      <td>0.0325</td>\n",
       "      <td>-2.9296</td>\n",
       "    </tr>\n",
       "    <tr>\n",
       "      <td>1</td>\n",
       "      <td>2017-6-30</td>\n",
       "      <td>13:51:16:246945023</td>\n",
       "      <td>viktor</td>\n",
       "      <td>0</td>\n",
       "      <td>0</td>\n",
       "      <td>0.6722</td>\n",
       "      <td>-1.1233</td>\n",
       "      <td>-0.2344</td>\n",
       "      <td>-0.1757</td>\n",
       "      <td>0.0208</td>\n",
       "      <td>0.1269</td>\n",
       "    </tr>\n",
       "    <tr>\n",
       "      <td>2</td>\n",
       "      <td>2017-6-30</td>\n",
       "      <td>13:51:16:446233987</td>\n",
       "      <td>viktor</td>\n",
       "      <td>0</td>\n",
       "      <td>0</td>\n",
       "      <td>0.4399</td>\n",
       "      <td>-1.4817</td>\n",
       "      <td>0.0722</td>\n",
       "      <td>-0.9105</td>\n",
       "      <td>0.1063</td>\n",
       "      <td>-2.4367</td>\n",
       "    </tr>\n",
       "    <tr>\n",
       "      <td>3</td>\n",
       "      <td>2017-6-30</td>\n",
       "      <td>13:51:16:646117985</td>\n",
       "      <td>viktor</td>\n",
       "      <td>0</td>\n",
       "      <td>0</td>\n",
       "      <td>0.3031</td>\n",
       "      <td>-0.8125</td>\n",
       "      <td>0.0888</td>\n",
       "      <td>0.1199</td>\n",
       "      <td>-0.4099</td>\n",
       "      <td>-2.9336</td>\n",
       "    </tr>\n",
       "    <tr>\n",
       "      <td>4</td>\n",
       "      <td>2017-6-30</td>\n",
       "      <td>13:51:16:846738994</td>\n",
       "      <td>viktor</td>\n",
       "      <td>0</td>\n",
       "      <td>0</td>\n",
       "      <td>0.4814</td>\n",
       "      <td>-0.9312</td>\n",
       "      <td>0.0359</td>\n",
       "      <td>0.0527</td>\n",
       "      <td>0.4379</td>\n",
       "      <td>2.4922</td>\n",
       "    </tr>\n",
       "  </tbody>\n",
       "</table>\n",
       "</div>"
      ],
      "text/plain": [
       "        date                time username  wrist  activity  acceleration_x  \\\n",
       "0  2017-6-30  13:51:15:847724020   viktor      0         0          0.2650   \n",
       "1  2017-6-30  13:51:16:246945023   viktor      0         0          0.6722   \n",
       "2  2017-6-30  13:51:16:446233987   viktor      0         0          0.4399   \n",
       "3  2017-6-30  13:51:16:646117985   viktor      0         0          0.3031   \n",
       "4  2017-6-30  13:51:16:846738994   viktor      0         0          0.4814   \n",
       "\n",
       "   acceleration_y  acceleration_z  gyro_x  gyro_y  gyro_z  \n",
       "0         -0.7814         -0.0076 -0.0590  0.0325 -2.9296  \n",
       "1         -1.1233         -0.2344 -0.1757  0.0208  0.1269  \n",
       "2         -1.4817          0.0722 -0.9105  0.1063 -2.4367  \n",
       "3         -0.8125          0.0888  0.1199 -0.4099 -2.9336  \n",
       "4         -0.9312          0.0359  0.0527  0.4379  2.4922  "
      ]
     },
     "execution_count": 6,
     "metadata": {},
     "output_type": "execute_result"
    }
   ],
   "source": [
    "dataset.head()"
   ]
  },
  {
   "cell_type": "code",
   "execution_count": 7,
   "metadata": {},
   "outputs": [
    {
     "data": {
      "text/plain": [
       "Index(['date', 'time', 'username', 'wrist', 'activity', 'acceleration_x',\n",
       "       'acceleration_y', 'acceleration_z', 'gyro_x', 'gyro_y', 'gyro_z'],\n",
       "      dtype='object')"
      ]
     },
     "execution_count": 7,
     "metadata": {},
     "output_type": "execute_result"
    }
   ],
   "source": [
    "dataset.columns"
   ]
  },
  {
   "cell_type": "code",
   "execution_count": 8,
   "metadata": {},
   "outputs": [
    {
     "data": {
      "text/plain": [
       "(88588, 11)"
      ]
     },
     "execution_count": 8,
     "metadata": {},
     "output_type": "execute_result"
    }
   ],
   "source": [
    "dataset.shape"
   ]
  },
  {
   "cell_type": "code",
   "execution_count": 9,
   "metadata": {},
   "outputs": [
    {
     "data": {
      "text/plain": [
       "date              0\n",
       "time              0\n",
       "username          0\n",
       "wrist             0\n",
       "activity          0\n",
       "acceleration_x    0\n",
       "acceleration_y    0\n",
       "acceleration_z    0\n",
       "gyro_x            0\n",
       "gyro_y            0\n",
       "gyro_z            0\n",
       "dtype: int64"
      ]
     },
     "execution_count": 9,
     "metadata": {},
     "output_type": "execute_result"
    }
   ],
   "source": [
    "dataset.isnull().sum()"
   ]
  },
  {
   "cell_type": "code",
   "execution_count": 21,
   "metadata": {},
   "outputs": [],
   "source": [
    "#Question 2: Let the target variable ‘y’ be the activity and assign all the columns after it to ‘x’.\n",
    "y=dataset.iloc[:,4:5].values"
   ]
  },
  {
   "cell_type": "code",
   "execution_count": 17,
   "metadata": {},
   "outputs": [],
   "source": [
    "x=dataset.iloc[:,5:]"
   ]
  },
  {
   "cell_type": "code",
   "execution_count": 16,
   "metadata": {},
   "outputs": [
    {
     "data": {
      "text/html": [
       "<div>\n",
       "<style scoped>\n",
       "    .dataframe tbody tr th:only-of-type {\n",
       "        vertical-align: middle;\n",
       "    }\n",
       "\n",
       "    .dataframe tbody tr th {\n",
       "        vertical-align: top;\n",
       "    }\n",
       "\n",
       "    .dataframe thead th {\n",
       "        text-align: right;\n",
       "    }\n",
       "</style>\n",
       "<table border=\"1\" class=\"dataframe\">\n",
       "  <thead>\n",
       "    <tr style=\"text-align: right;\">\n",
       "      <th></th>\n",
       "      <th>wrist</th>\n",
       "      <th>activity</th>\n",
       "      <th>acceleration_x</th>\n",
       "      <th>acceleration_y</th>\n",
       "      <th>acceleration_z</th>\n",
       "      <th>gyro_x</th>\n",
       "      <th>gyro_y</th>\n",
       "      <th>gyro_z</th>\n",
       "    </tr>\n",
       "  </thead>\n",
       "  <tbody>\n",
       "    <tr>\n",
       "      <td>wrist</td>\n",
       "      <td>1.000000</td>\n",
       "      <td>-0.113404</td>\n",
       "      <td>-0.609579</td>\n",
       "      <td>0.087091</td>\n",
       "      <td>0.323680</td>\n",
       "      <td>-0.022092</td>\n",
       "      <td>-0.068403</td>\n",
       "      <td>0.008796</td>\n",
       "    </tr>\n",
       "    <tr>\n",
       "      <td>activity</td>\n",
       "      <td>-0.113404</td>\n",
       "      <td>1.000000</td>\n",
       "      <td>-0.017747</td>\n",
       "      <td>0.639520</td>\n",
       "      <td>-0.192435</td>\n",
       "      <td>0.040856</td>\n",
       "      <td>0.012055</td>\n",
       "      <td>-0.008106</td>\n",
       "    </tr>\n",
       "    <tr>\n",
       "      <td>acceleration_x</td>\n",
       "      <td>-0.609579</td>\n",
       "      <td>-0.017747</td>\n",
       "      <td>1.000000</td>\n",
       "      <td>-0.265169</td>\n",
       "      <td>-0.552374</td>\n",
       "      <td>-0.021705</td>\n",
       "      <td>-0.004091</td>\n",
       "      <td>-0.060849</td>\n",
       "    </tr>\n",
       "    <tr>\n",
       "      <td>acceleration_y</td>\n",
       "      <td>0.087091</td>\n",
       "      <td>0.639520</td>\n",
       "      <td>-0.265169</td>\n",
       "      <td>1.000000</td>\n",
       "      <td>0.106220</td>\n",
       "      <td>0.010549</td>\n",
       "      <td>0.072170</td>\n",
       "      <td>-0.022994</td>\n",
       "    </tr>\n",
       "    <tr>\n",
       "      <td>acceleration_z</td>\n",
       "      <td>0.323680</td>\n",
       "      <td>-0.192435</td>\n",
       "      <td>-0.552374</td>\n",
       "      <td>0.106220</td>\n",
       "      <td>1.000000</td>\n",
       "      <td>0.035296</td>\n",
       "      <td>-0.021004</td>\n",
       "      <td>0.049621</td>\n",
       "    </tr>\n",
       "    <tr>\n",
       "      <td>gyro_x</td>\n",
       "      <td>-0.022092</td>\n",
       "      <td>0.040856</td>\n",
       "      <td>-0.021705</td>\n",
       "      <td>0.010549</td>\n",
       "      <td>0.035296</td>\n",
       "      <td>1.000000</td>\n",
       "      <td>0.094011</td>\n",
       "      <td>0.317769</td>\n",
       "    </tr>\n",
       "    <tr>\n",
       "      <td>gyro_y</td>\n",
       "      <td>-0.068403</td>\n",
       "      <td>0.012055</td>\n",
       "      <td>-0.004091</td>\n",
       "      <td>0.072170</td>\n",
       "      <td>-0.021004</td>\n",
       "      <td>0.094011</td>\n",
       "      <td>1.000000</td>\n",
       "      <td>0.287244</td>\n",
       "    </tr>\n",
       "    <tr>\n",
       "      <td>gyro_z</td>\n",
       "      <td>0.008796</td>\n",
       "      <td>-0.008106</td>\n",
       "      <td>-0.060849</td>\n",
       "      <td>-0.022994</td>\n",
       "      <td>0.049621</td>\n",
       "      <td>0.317769</td>\n",
       "      <td>0.287244</td>\n",
       "      <td>1.000000</td>\n",
       "    </tr>\n",
       "  </tbody>\n",
       "</table>\n",
       "</div>"
      ],
      "text/plain": [
       "                   wrist  activity  acceleration_x  acceleration_y  \\\n",
       "wrist           1.000000 -0.113404       -0.609579        0.087091   \n",
       "activity       -0.113404  1.000000       -0.017747        0.639520   \n",
       "acceleration_x -0.609579 -0.017747        1.000000       -0.265169   \n",
       "acceleration_y  0.087091  0.639520       -0.265169        1.000000   \n",
       "acceleration_z  0.323680 -0.192435       -0.552374        0.106220   \n",
       "gyro_x         -0.022092  0.040856       -0.021705        0.010549   \n",
       "gyro_y         -0.068403  0.012055       -0.004091        0.072170   \n",
       "gyro_z          0.008796 -0.008106       -0.060849       -0.022994   \n",
       "\n",
       "                acceleration_z    gyro_x    gyro_y    gyro_z  \n",
       "wrist                 0.323680 -0.022092 -0.068403  0.008796  \n",
       "activity             -0.192435  0.040856  0.012055 -0.008106  \n",
       "acceleration_x       -0.552374 -0.021705 -0.004091 -0.060849  \n",
       "acceleration_y        0.106220  0.010549  0.072170 -0.022994  \n",
       "acceleration_z        1.000000  0.035296 -0.021004  0.049621  \n",
       "gyro_x                0.035296  1.000000  0.094011  0.317769  \n",
       "gyro_y               -0.021004  0.094011  1.000000  0.287244  \n",
       "gyro_z                0.049621  0.317769  0.287244  1.000000  "
      ]
     },
     "execution_count": 16,
     "metadata": {},
     "output_type": "execute_result"
    }
   ],
   "source": [
    "dataset.corr()"
   ]
  },
  {
   "cell_type": "code",
   "execution_count": 33,
   "metadata": {},
   "outputs": [],
   "source": [
    "#Question 3: Using Scikit-learn fit a Gaussian Naive Bayes model and observe the accuracy. Generate a classification report using scikit learn.\n",
    "from sklearn.model_selection import train_test_split\n",
    "x_train,x_test,y_train,y_test=train_test_split(x,y,test_size=0.3,random_state=22)"
   ]
  },
  {
   "cell_type": "code",
   "execution_count": 34,
   "metadata": {},
   "outputs": [
    {
     "name": "stderr",
     "output_type": "stream",
     "text": [
      "C:\\Users\\n.christopherraja\\AppData\\Local\\Continuum\\anaconda3\\lib\\site-packages\\sklearn\\utils\\validation.py:724: DataConversionWarning: A column-vector y was passed when a 1d array was expected. Please change the shape of y to (n_samples, ), for example using ravel().\n",
      "  y = column_or_1d(y, warn=True)\n"
     ]
    }
   ],
   "source": [
    "from sklearn.naive_bayes import GaussianNB\n",
    "model=GaussianNB()\n",
    "model.fit(x_train,y_train)\n",
    "y_pred_gnb=model.predict(x_test)"
   ]
  },
  {
   "cell_type": "code",
   "execution_count": 35,
   "metadata": {},
   "outputs": [
    {
     "data": {
      "text/plain": [
       "0.9562027316852918"
      ]
     },
     "execution_count": 35,
     "metadata": {},
     "output_type": "execute_result"
    }
   ],
   "source": [
    "from sklearn.metrics import confusion_matrix,accuracy_score\n",
    "accuracy_score(y_test,y_pred_gnb)"
   ]
  },
  {
   "cell_type": "code",
   "execution_count": 36,
   "metadata": {},
   "outputs": [
    {
     "data": {
      "text/plain": [
       "array([[13109,   140],\n",
       "       [ 1024, 12304]], dtype=int64)"
      ]
     },
     "execution_count": 36,
     "metadata": {},
     "output_type": "execute_result"
    }
   ],
   "source": [
    "confusion_matrix(y_test,y_pred_gnb)"
   ]
  },
  {
   "cell_type": "code",
   "execution_count": 28,
   "metadata": {},
   "outputs": [],
   "source": [
    "#Question 4: Repeat the model once using only the acceleration values as predictors\n",
    "x1=dataset.iloc[:,5:8]"
   ]
  },
  {
   "cell_type": "code",
   "execution_count": 29,
   "metadata": {},
   "outputs": [],
   "source": [
    "x_train,x_test,y_train,y_test=train_test_split(x1,y,test_size=0.3,random_state=22)"
   ]
  },
  {
   "cell_type": "code",
   "execution_count": 30,
   "metadata": {},
   "outputs": [
    {
     "name": "stderr",
     "output_type": "stream",
     "text": [
      "C:\\Users\\n.christopherraja\\AppData\\Local\\Continuum\\anaconda3\\lib\\site-packages\\sklearn\\utils\\validation.py:724: DataConversionWarning: A column-vector y was passed when a 1d array was expected. Please change the shape of y to (n_samples, ), for example using ravel().\n",
      "  y = column_or_1d(y, warn=True)\n"
     ]
    }
   ],
   "source": [
    "model=GaussianNB()\n",
    "model.fit(x_train,y_train)\n",
    "y_pred_gnb=model.predict(x_test)"
   ]
  },
  {
   "cell_type": "code",
   "execution_count": 31,
   "metadata": {},
   "outputs": [
    {
     "data": {
      "text/plain": [
       "0.9571057681453888"
      ]
     },
     "execution_count": 31,
     "metadata": {},
     "output_type": "execute_result"
    }
   ],
   "source": [
    "accuracy_score(y_test,y_pred_gnb)"
   ]
  },
  {
   "cell_type": "code",
   "execution_count": 32,
   "metadata": {},
   "outputs": [
    {
     "data": {
      "text/plain": [
       "array([[13162,    87],\n",
       "       [ 1053, 12275]], dtype=int64)"
      ]
     },
     "execution_count": 32,
     "metadata": {},
     "output_type": "execute_result"
    }
   ],
   "source": [
    "confusion_matrix(y_test,y_pred_gnb)"
   ]
  },
  {
   "cell_type": "code",
   "execution_count": 39,
   "metadata": {},
   "outputs": [],
   "source": [
    "#Question 4: Repeat the model once using only the gyro values as predictors\n",
    "x2=dataset.iloc[:,8:11]"
   ]
  },
  {
   "cell_type": "code",
   "execution_count": 40,
   "metadata": {},
   "outputs": [],
   "source": [
    "x_train,x_test,y_train,y_test=train_test_split(x2,y,test_size=0.3,random_state=22)"
   ]
  },
  {
   "cell_type": "code",
   "execution_count": 41,
   "metadata": {},
   "outputs": [
    {
     "name": "stderr",
     "output_type": "stream",
     "text": [
      "C:\\Users\\n.christopherraja\\AppData\\Local\\Continuum\\anaconda3\\lib\\site-packages\\sklearn\\utils\\validation.py:724: DataConversionWarning: A column-vector y was passed when a 1d array was expected. Please change the shape of y to (n_samples, ), for example using ravel().\n",
      "  y = column_or_1d(y, warn=True)\n"
     ]
    }
   ],
   "source": [
    "model=GaussianNB()\n",
    "model.fit(x_train,y_train)\n",
    "y_pred_gnb=model.predict(x_test)"
   ]
  },
  {
   "cell_type": "code",
   "execution_count": 42,
   "metadata": {},
   "outputs": [
    {
     "data": {
      "text/plain": [
       "0.6480415396771645"
      ]
     },
     "execution_count": 42,
     "metadata": {},
     "output_type": "execute_result"
    }
   ],
   "source": [
    "accuracy_score(y_test,y_pred_gnb)"
   ]
  },
  {
   "cell_type": "code",
   "execution_count": 43,
   "metadata": {},
   "outputs": [
    {
     "data": {
      "text/plain": [
       "array([[9808, 3441],\n",
       "       [5913, 7415]], dtype=int64)"
      ]
     },
     "execution_count": 43,
     "metadata": {},
     "output_type": "execute_result"
    }
   ],
   "source": [
    "confusion_matrix(y_test,y_pred_gnb)"
   ]
  },
  {
   "cell_type": "code",
   "execution_count": null,
   "metadata": {},
   "outputs": [],
   "source": [
    "#The accelerator values are highly correlated with the target variable when compared to gyro values hence the prediction accuracy is high when the model is trained with accelerator values."
   ]
  }
 ],
 "metadata": {
  "kernelspec": {
   "display_name": "Python 3",
   "language": "python",
   "name": "python3"
  },
  "language_info": {
   "codemirror_mode": {
    "name": "ipython",
    "version": 3
   },
   "file_extension": ".py",
   "mimetype": "text/x-python",
   "name": "python",
   "nbconvert_exporter": "python",
   "pygments_lexer": "ipython3",
   "version": "3.7.4"
  }
 },
 "nbformat": 4,
 "nbformat_minor": 2
}

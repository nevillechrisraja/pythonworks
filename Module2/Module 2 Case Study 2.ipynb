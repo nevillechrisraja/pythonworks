{
 "cells": [
  {
   "cell_type": "code",
   "execution_count": 1,
   "metadata": {},
   "outputs": [
    {
     "name": "stdout",
     "output_type": "stream",
     "text": [
      "4\n"
     ]
    }
   ],
   "source": [
    "##Question 1\n",
    "nums=set([1,1,2,3,3,3,4,4])\n",
    "print(len(nums))"
   ]
  },
  {
   "cell_type": "code",
   "execution_count": 2,
   "metadata": {},
   "outputs": [
    {
     "name": "stdout",
     "output_type": "stream",
     "text": [
      "['john', 'peter']\n"
     ]
    }
   ],
   "source": [
    "##Question 2\n",
    "d={\"john\":40,\"peter\":45}\n",
    "print(list(d.keys()))"
   ]
  },
  {
   "cell_type": "code",
   "execution_count": 13,
   "metadata": {},
   "outputs": [
    {
     "name": "stdout",
     "output_type": "stream",
     "text": [
      "Enter password: aAbcZ27J3@12345\n",
      "Valid\n"
     ]
    }
   ],
   "source": [
    "#Question 3\n",
    "password = input(\"Enter password: \")\n",
    "if re.match(r'[A-Za-z0-9$#@]{6,12}',password):\n",
    "    print ('Valid')\n",
    "else:\n",
    "    print('Invalid')"
   ]
  },
  {
   "cell_type": "code",
   "execution_count": 291,
   "metadata": {},
   "outputs": [
    {
     "name": "stdout",
     "output_type": "stream",
     "text": [
      "Element: 4, Index: 0\n",
      "Element: 7, Index: 1\n",
      "Element: 3, Index: 2\n",
      "Element: 2, Index: 3\n",
      "Element: 5, Index: 4\n",
      "Element: 9, Index: 5\n"
     ]
    }
   ],
   "source": [
    "#Question 4\n",
    "a=[4,7,3,2,5,9]\n",
    "for i in range(0,len(a)):\n",
    "    item=a[i]\n",
    "    print(\"Element: \"+ str(item)+ \", Index: \"+ str(i))"
   ]
  },
  {
   "cell_type": "code",
   "execution_count": 293,
   "metadata": {},
   "outputs": [
    {
     "name": "stdout",
     "output_type": "stream",
     "text": [
      "Enter input: H1e2l3l4o5w6o7r8l9d\n",
      "Helloworld\n"
     ]
    }
   ],
   "source": [
    "#Question 5\n",
    "str_output=''\n",
    "#str_input='H1e2l3l4o5w6o7r8l9d'\n",
    "str_input=input('Enter input: ')\n",
    "for a in range(0,len(str_input),2):\n",
    "    str_output=str_output+str_input[a]\n",
    "    \n",
    "print(str_output)"
   ]
  },
  {
   "cell_type": "code",
   "execution_count": 294,
   "metadata": {},
   "outputs": [
    {
     "name": "stdout",
     "output_type": "stream",
     "text": [
      "Enter string: rise to vote sir\n",
      "ris etov ot esir\n"
     ]
    }
   ],
   "source": [
    "#Question 6\n",
    "str_inp=input('Enter string: ')\n",
    "print(str_inp[::-1])"
   ]
  },
  {
   "cell_type": "code",
   "execution_count": 1,
   "metadata": {},
   "outputs": [
    {
     "name": "stdout",
     "output_type": "stream",
     "text": [
      "Enter input: abcdefgabc\n",
      "e,1\n",
      "c,2\n",
      "f,1\n",
      "d,1\n",
      "a,2\n",
      "g,1\n",
      "b,2\n"
     ]
    }
   ],
   "source": [
    "#Question 7\n",
    "#str_inp1='abcdefgabc'\n",
    "str_inp1=input('Enter input: ')\n",
    "set_str=set(str_inp1)\n",
    "\n",
    "val_dict={}\n",
    "for i in set_str:\n",
    "    a=0\n",
    "    for y in str_inp1:\n",
    "        if(i==y):\n",
    "            a=a+1\n",
    "    print(str(i)+','+str(a))"
   ]
  },
  {
   "cell_type": "code",
   "execution_count": 58,
   "metadata": {},
   "outputs": [
    {
     "name": "stdout",
     "output_type": "stream",
     "text": [
      "[35]\n"
     ]
    }
   ],
   "source": [
    "#Question 8\n",
    "list1=[1,3,6,78,35,55]\n",
    "set1=set(list1)\n",
    "list2=[12,24,35,24,88,120,155]\n",
    "set2=set(list2)\n",
    "print(list(set1.intersection(set2)))"
   ]
  },
  {
   "cell_type": "code",
   "execution_count": 306,
   "metadata": {},
   "outputs": [
    {
     "name": "stdout",
     "output_type": "stream",
     "text": [
      "[12, 35, 88, 120, 155]\n"
     ]
    }
   ],
   "source": [
    "#Question 9\n",
    "x=[12,24,35,24,88,120,155]\n",
    "d=[i for i in x if i!=24]\n",
    "print(d)"
   ]
  },
  {
   "cell_type": "code",
   "execution_count": 316,
   "metadata": {},
   "outputs": [
    {
     "name": "stdout",
     "output_type": "stream",
     "text": [
      "[24, 35, 70, 155]\n"
     ]
    }
   ],
   "source": [
    "#Question 10\n",
    "ll=[12,24,35,70,88,120,155]\n",
    "ll_index=[0,4,5]\n",
    "d=[ll[i] for i in range(0,len(ll)) if i not in ll_index]\n",
    "print(d)"
   ]
  },
  {
   "cell_type": "code",
   "execution_count": 322,
   "metadata": {},
   "outputs": [
    {
     "name": "stdout",
     "output_type": "stream",
     "text": [
      "[12, 24, 88, 120, 155]\n"
     ]
    }
   ],
   "source": [
    "#Question 11\n",
    "div=[12,24,35,70,88,120,155]\n",
    "d=[i for i in div if i%5!=0 or i%7!=0]\n",
    "print(d)"
   ]
  },
  {
   "cell_type": "code",
   "execution_count": 324,
   "metadata": {},
   "outputs": [
    {
     "name": "stdout",
     "output_type": "stream",
     "text": [
      "5\n",
      "3.55\n"
     ]
    }
   ],
   "source": [
    "#Question 12\n",
    "user_input=int(input())\n",
    "out_append=0\n",
    "n=1\n",
    "while n<=user_input:\n",
    "    out_append=out_append+(n/(n+1))\n",
    "    n=n+1\n",
    "print(round(out_append,2))"
   ]
  }
 ],
 "metadata": {
  "kernelspec": {
   "display_name": "Python 3",
   "language": "python",
   "name": "python3"
  },
  "language_info": {
   "codemirror_mode": {
    "name": "ipython",
    "version": 3
   },
   "file_extension": ".py",
   "mimetype": "text/x-python",
   "name": "python",
   "nbconvert_exporter": "python",
   "pygments_lexer": "ipython3",
   "version": "3.7.4"
  }
 },
 "nbformat": 4,
 "nbformat_minor": 2
}
